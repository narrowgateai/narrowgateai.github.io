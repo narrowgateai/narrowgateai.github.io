{
 "cells": [
  {
   "cell_type": "code",
   "execution_count": 1,
   "id": "d3226286-5f94-4b5f-8361-f77db128f6dc",
   "metadata": {},
   "outputs": [],
   "source": [
    "%load_ext autoreload\n",
    "%autoreload 2"
   ]
  },
  {
   "cell_type": "markdown",
   "id": "126848a1-c1ef-48c3-b53f-ad41241eefae",
   "metadata": {},
   "source": [
    "# UnivariateScreener Example\n",
    "\n",
    "The `UnivariateScreener` class from this package assists in screening for relationships between individual predictor variables and a target variable.  \n",
    "\n",
    "No interaction effects between predictor variables are taken into account.  \n",
    "\n",
    "As a result, this screener produces results which are different than the 'feature importance' methods available for predictive models (namely tree-based methods) as it only accounts for a predictor variable's direct relationship with a target variable. Still, often times, this screening method is sufficient for producing an initial round of filtering from a high-dimensional data. \n",
    "\n",
    "This screening method, along with others present in this package, require that all data be numeric in nature (including the target variable).  \n",
    "* For any categorical predictor variables, it is recommended to utilze the `Nominal2OrdinalEncoder` which will convert the categorical variables to numeric values. \n",
    "* For a target variable with two values (binary classification), a conversion of target variable values to `0` and `1` is recommended. A discretized information measure is recommend (mutual information, uncertainty reduction, etc.) with the `nbins_target` parameter value set at `2`\n",
    "* For a multi-class target variable, a [`LabelEncoder`](https://scikit-learn.org/stable/modules/generated/sklearn.preprocessing.LabelEncoder.html) conversion is recommended along with a discretized information measure. The `nbins_target` parameter value shold be set to the number of classes present within the target variable. Please be aware the screener will potentially struggle to produce meaningful results with extremely high cardinal target variables also exhibiting a moderate amount of class imbalance.\n",
    "\n",
    "The following functionality will be demonstrated in this notebook :\n",
    "* Discretized screening methods\n",
    "* Continuous screening methods\n",
    "* 'Complete' vs. 'Cyclic' permutation methods\n",
    "\n",
    "As recommended in the documentation, for more detailed information on utilizing `UnivariateScreener`, please consult the following texts:\n",
    "* [Data Mining Algorithms in C++](https://www.amazon.com/gp/product/B078H79QGK/)\n",
    "* [VarScreen User's manual](http://www.timothymasters.info/varscreen.html)\n",
    "\n",
    "DISCLAIMER: This library/repository is in no way affiliated with Dr. Masters and receives no renumeration."
   ]
  },
  {
   "cell_type": "markdown",
   "id": "105a86b6-7f70-4a3d-b3dc-e47e2523a689",
   "metadata": {},
   "source": [
    "### Example 1 : Discretized Screening methods\n",
    "\n",
    "As mentioned above, this class only supports numeric data as inputs ... with both the predictor and target variables.  \n",
    "\n",
    "While it is often advised to NOT discretize continuous variables during predictive modeling due to potential information loss, discretization of continuous variables is used extensively with this screener as a method for detecting non-linear relationships between predictor and target variables. The number of bins does not have to be large in order to detect this relationship. Often times, just 3 to 5 bins is sufficient. \n",
    "\n",
    "Strictly using correlation as a tool for assessing a relationship between continuous predictor and target variable may eliminate some variables from consideration due to it's inability to properly assess non-linear relationships. For an example of this inability please see [Anscombe's quartet](https://en.wikipedia.org/wiki/Anscombe%27s_quartet). On the other hand, such variables with non-linear relationships are exactly those variables which we desire to retain and use in powerful predictive models whose algorithms have the ability to take advantage of such relationships during model construction time.\n",
    "\n",
    "A simple example given in the above-referenced texts is replicated here using the synthetic data-generating function [`generate_masters_sample_regression_data`] present within the package. This synthetic data set, generates 6 variables which are informationally-related to the target variable. 2 of those 6 variables are combinations of the other 4 variables.  \n",
    "\n",
    "Therefore, we should see the following: \n",
    "* 2 variables strongly related to the target variable\n",
    "* 4 variables moderately related to the target variable\n",
    "* remaining variables with a random relationship with the target variable"
   ]
  },
  {
   "cell_type": "markdown",
   "id": "9e1bf2ac-5115-4795-84d0-6fafdadebdd1",
   "metadata": {},
   "source": [
    "####  Generate Synthetic Data"
   ]
  },
  {
   "cell_type": "code",
   "execution_count": 2,
   "id": "8be6b909-2709-45d5-8599-0d7bb7c005fc",
   "metadata": {},
   "outputs": [],
   "source": [
    "from narrowgate.utils.test import make_masters_sample_regression_data"
   ]
  },
  {
   "cell_type": "code",
   "execution_count": 3,
   "id": "f8082534-0f67-44af-9eba-be350dd246bc",
   "metadata": {},
   "outputs": [],
   "source": [
    "X, y = \\\n",
    "    make_masters_sample_regression_data(\n",
    "        n_obs = 10000,\n",
    "        n_cols = 50)"
   ]
  },
  {
   "cell_type": "code",
   "execution_count": 4,
   "id": "090741c7-6508-47a0-a435-08f26adff618",
   "metadata": {},
   "outputs": [],
   "source": [
    "from narrowgate.screeners import UnivariateScreener"
   ]
  },
  {
   "cell_type": "code",
   "execution_count": 5,
   "id": "d4ea745c-2327-4efb-a087-a3929506d54d",
   "metadata": {},
   "outputs": [
    {
     "name": "stdout",
     "output_type": "stream",
     "text": [
      "PROCESSING 50 variables ... \n",
      "TOTAL COLUMNS PROCESSED: 50\n",
      "- Processing time: 3.911739 s\n",
      "Begin MCPT reps ...\n"
     ]
    },
    {
     "data": {
      "application/vnd.jupyter.widget-view+json": {
       "model_id": "6d2ad5d4b1f94ab1a80fdedaf8a0b332",
       "version_major": 2,
       "version_minor": 0
      },
      "text/plain": [
       "  0%|          | 0/100 [00:00<?, ?it/s]"
      ]
     },
     "metadata": {},
     "output_type": "display_data"
    },
    {
     "name": "stdout",
     "output_type": "stream",
     "text": [
      "Begin CSCV reps ...\n"
     ]
    },
    {
     "data": {
      "application/vnd.jupyter.widget-view+json": {
       "model_id": "7d9fe33556894e49b354aada9702fd5e",
       "version_major": 2,
       "version_minor": 0
      },
      "text/plain": [
       "  0%|          | 0/20 [00:00<?, ?it/s]"
      ]
     },
     "metadata": {},
     "output_type": "display_data"
    },
    {
     "data": {
      "text/plain": [
       "<narrowgate.screeners.univariate.base.UnivariateScreener at 0x7f51f165b1c0>"
      ]
     },
     "execution_count": 5,
     "metadata": {},
     "output_type": "execute_result"
    }
   ],
   "source": [
    "uni_screen = \\\n",
    "    UnivariateScreener(\n",
    "        nbins_predictors=5, \n",
    "        nbins_target=5, \n",
    "        information_criterion='mutual_information', \n",
    "        mcpt_reps=100, \n",
    "        cscv_subsets=6)\n",
    "\n",
    "uni_screen.screen(X, y)"
   ]
  },
  {
   "cell_type": "code",
   "execution_count": 6,
   "id": "0f8b3246-8218-4390-80df-df37df264b71",
   "metadata": {},
   "outputs": [
    {
     "name": "stdout",
     "output_type": "stream",
     "text": [
      "UNIVARIATE SCREENER RESULTS\n",
      "---------------------------\n",
      "Number of observations: 10000\n",
      "Number of predictors: 50\n",
      "Target variable name: target\n",
      "Number of MCPT reps: 100\n",
      "Number of CSCV subsets: 6\n",
      "Number of bins (predictors): 5\n",
      "Number of bins (target): 5\n",
      "MCPT permutation method: complete\n",
      "Information Criterion: Mutual Information\n"
     ]
    },
    {
     "data": {
      "text/html": [
       "<div>\n",
       "<style scoped>\n",
       "    .dataframe tbody tr th:only-of-type {\n",
       "        vertical-align: middle;\n",
       "    }\n",
       "\n",
       "    .dataframe tbody tr th {\n",
       "        vertical-align: top;\n",
       "    }\n",
       "\n",
       "    .dataframe thead th {\n",
       "        text-align: right;\n",
       "    }\n",
       "</style>\n",
       "<table border=\"1\" class=\"dataframe\">\n",
       "  <thead>\n",
       "    <tr style=\"text-align: right;\">\n",
       "      <th></th>\n",
       "      <th>Variable</th>\n",
       "      <th>mutual_information</th>\n",
       "      <th>Solo p-value</th>\n",
       "      <th>Unbiased p-value</th>\n",
       "      <th>P(&lt;=median)</th>\n",
       "    </tr>\n",
       "  </thead>\n",
       "  <tbody>\n",
       "    <tr>\n",
       "      <th>0</th>\n",
       "      <td>x_1</td>\n",
       "      <td>0.2817</td>\n",
       "      <td>0.01</td>\n",
       "      <td>0.01</td>\n",
       "      <td>0.00</td>\n",
       "    </tr>\n",
       "    <tr>\n",
       "      <th>1</th>\n",
       "      <td>x_0</td>\n",
       "      <td>0.2595</td>\n",
       "      <td>0.01</td>\n",
       "      <td>0.01</td>\n",
       "      <td>0.00</td>\n",
       "    </tr>\n",
       "    <tr>\n",
       "      <th>2</th>\n",
       "      <td>x_4</td>\n",
       "      <td>0.1242</td>\n",
       "      <td>0.01</td>\n",
       "      <td>0.01</td>\n",
       "      <td>0.00</td>\n",
       "    </tr>\n",
       "    <tr>\n",
       "      <th>3</th>\n",
       "      <td>x_5</td>\n",
       "      <td>0.1234</td>\n",
       "      <td>0.01</td>\n",
       "      <td>0.01</td>\n",
       "      <td>0.00</td>\n",
       "    </tr>\n",
       "    <tr>\n",
       "      <th>4</th>\n",
       "      <td>x_2</td>\n",
       "      <td>0.1134</td>\n",
       "      <td>0.01</td>\n",
       "      <td>0.01</td>\n",
       "      <td>0.00</td>\n",
       "    </tr>\n",
       "    <tr>\n",
       "      <th>5</th>\n",
       "      <td>x_3</td>\n",
       "      <td>0.1099</td>\n",
       "      <td>0.01</td>\n",
       "      <td>0.01</td>\n",
       "      <td>0.00</td>\n",
       "    </tr>\n",
       "    <tr>\n",
       "      <th>6</th>\n",
       "      <td>x_6</td>\n",
       "      <td>0.0013</td>\n",
       "      <td>0.06</td>\n",
       "      <td>0.98</td>\n",
       "      <td>0.35</td>\n",
       "    </tr>\n",
       "    <tr>\n",
       "      <th>7</th>\n",
       "      <td>x_46</td>\n",
       "      <td>0.0012</td>\n",
       "      <td>0.14</td>\n",
       "      <td>1.00</td>\n",
       "      <td>0.25</td>\n",
       "    </tr>\n",
       "    <tr>\n",
       "      <th>8</th>\n",
       "      <td>x_8</td>\n",
       "      <td>0.0011</td>\n",
       "      <td>0.16</td>\n",
       "      <td>1.00</td>\n",
       "      <td>0.35</td>\n",
       "    </tr>\n",
       "    <tr>\n",
       "      <th>9</th>\n",
       "      <td>x_45</td>\n",
       "      <td>0.0011</td>\n",
       "      <td>0.15</td>\n",
       "      <td>1.00</td>\n",
       "      <td>0.35</td>\n",
       "    </tr>\n",
       "  </tbody>\n",
       "</table>\n",
       "</div>"
      ],
      "text/plain": [
       "  Variable  mutual_information  Solo p-value  Unbiased p-value  P(<=median)\n",
       "0      x_1              0.2817          0.01              0.01         0.00\n",
       "1      x_0              0.2595          0.01              0.01         0.00\n",
       "2      x_4              0.1242          0.01              0.01         0.00\n",
       "3      x_5              0.1234          0.01              0.01         0.00\n",
       "4      x_2              0.1134          0.01              0.01         0.00\n",
       "5      x_3              0.1099          0.01              0.01         0.00\n",
       "6      x_6              0.0013          0.06              0.98         0.35\n",
       "7     x_46              0.0012          0.14              1.00         0.25\n",
       "8      x_8              0.0011          0.16              1.00         0.35\n",
       "9     x_45              0.0011          0.15              1.00         0.35"
      ]
     },
     "execution_count": 6,
     "metadata": {},
     "output_type": "execute_result"
    }
   ],
   "source": [
    "uni_screen_results = uni_screen.results\n",
    "uni_screen_results.head(10)"
   ]
  },
  {
   "cell_type": "markdown",
   "id": "414ff905-73d8-4361-8429-63e43d09b0c9",
   "metadata": {},
   "source": [
    "The results above are exactly what we would have expected. \n",
    "\n",
    "`x_0` and `x_1` are the two variables derived from variables `x_2` thorugh `x_5` and are more strongly related to the target.\n",
    "\n",
    "`x_6` and greater are purely random and have no relationship with the target whatsoever."
   ]
  },
  {
   "cell_type": "markdown",
   "id": "152e311d-d1b6-4936-937d-80e73b1bb2be",
   "metadata": {},
   "source": [
    "#### Brief explanation of results"
   ]
  },
  {
   "cell_type": "markdown",
   "id": "46957bbc-40af-4ff1-a209-6899951dc16f",
   "metadata": {},
   "source": [
    "Once again, at risk of sounding like a broken record, the practitioner is strongly encouraged to consult the referenced texts by Timothy Masters for a more detailed review of the results metrics.  \n",
    "\n",
    "However, the following information is freely available from the [VarScreen user's manual](http://www.timothymasters.info/varscreen.html) and summarized here for convenience.  \n",
    "\n",
    "The `results` DataFrame consists of the following:\n",
    "\n",
    "* `Variable`  \n",
    "    - the name of the predictor variable  \n",
    "\n",
    "* `Solo p-value`  \n",
    "    - the probability that a predictor variable having a strictly random relationship with the target could have had an information score at least as high as one obtained by sheer luck.  \n",
    "\n",
    "* `Unbiased p-value`  \n",
    "    - the probability that the best performing predictor variable could have attained its superior level of performance by sheer luck if all candidates were truly worthless.  \n",
    "    - This value is an upper bound for the true unbiased p-value of the candidate, and a very small value is an indication that the predictor variable has true predictive power.  \n",
    "\n",
    "* `P(<=median)`  \n",
    "    - an estimation of superior quality of a predictor variable relative to other predictor variables present in the data set. **measures relative power of predictor variables to one another, not absolute power**  \n",
    "    - only meaningful if the set of predictor variables being evaluated are known to have a non-random relationship to the target variable.  \n",
    "    - the estimated probability (via cross-validation) that the out-of-sample information value of the best predictor variable will be less than or equal to the median out-of-sample performance of all other predictor variables.   \n",
    "    - This value is controlled via the `cscv_subsets` parameter and refers to the number of folds to use in Combinatorially Symmetric Cross Validation. For more information about this method, please refer to the linked texts above.\n",
    "\n",
    "**Unbiased p-value Alert**  \n",
    "Because the calculation of this value is overly conservative, large values at the bottom of the list may actually be useful predictors and may have obtained these large values due to the over-estimation of the true p-value. A more rigid and accurate stepwise method has been implemented by Masters within VarScreen but has not been implmented here as it requires the practitioner to provide a predefined p-value (alpha) at runtime."
   ]
  },
  {
   "cell_type": "markdown",
   "id": "3429e1e4-2f66-4374-b4d7-c8c3942711be",
   "metadata": {},
   "source": [
    "### Example 2 : Continuous Screening methods\n",
    "\n",
    "The same data set used in the previous example will be used again in the call to demonstrate screening using a continuous information measure.  \n",
    "\n",
    "The screening metric being used will be Spearman's rank correlation. Because the data set is known to not have any non-linearities present between the predictor and target variables, the results should be relatively the same as in the discretized example.\n",
    "\n",
    "Note that the parameters `nbins_predictors` and `nbins_target` are both set to `None` in order to invoke the rank correlation calculation.  \n",
    "In addition, the `information_measure` parameter must be changed as well."
   ]
  },
  {
   "cell_type": "code",
   "execution_count": 7,
   "id": "4f96a9c6-98b6-488f-8800-6dd6acc28cc0",
   "metadata": {},
   "outputs": [
    {
     "name": "stdout",
     "output_type": "stream",
     "text": [
      "PROCESSING 50 variables ... \n",
      "TOTAL COLUMNS PROCESSED: 50\n",
      "- Processing time: 0.000716 s\n",
      "Begin MCPT reps ...\n"
     ]
    },
    {
     "data": {
      "application/vnd.jupyter.widget-view+json": {
       "model_id": "7a78487d1087475fa2dd819d81b9d03e",
       "version_major": 2,
       "version_minor": 0
      },
      "text/plain": [
       "  0%|          | 0/100 [00:00<?, ?it/s]"
      ]
     },
     "metadata": {},
     "output_type": "display_data"
    },
    {
     "name": "stdout",
     "output_type": "stream",
     "text": [
      "Begin CSCV reps ...\n"
     ]
    },
    {
     "data": {
      "application/vnd.jupyter.widget-view+json": {
       "model_id": "2f6f50c5d57b43a79ca0ca696eb3bda7",
       "version_major": 2,
       "version_minor": 0
      },
      "text/plain": [
       "  0%|          | 0/20 [00:00<?, ?it/s]"
      ]
     },
     "metadata": {},
     "output_type": "display_data"
    },
    {
     "data": {
      "text/plain": [
       "<narrowgate.screeners.univariate.base.UnivariateScreener at 0x7f51e59de7f0>"
      ]
     },
     "execution_count": 7,
     "metadata": {},
     "output_type": "execute_result"
    }
   ],
   "source": [
    "uni_screen_continuous = \\\n",
    "    UnivariateScreener(\n",
    "        nbins_predictors=None, \n",
    "        nbins_target=None, \n",
    "        information_criterion='spearman_rho', \n",
    "        mcpt_reps=100, \n",
    "        cscv_subsets=6)\n",
    "\n",
    "uni_screen_continuous.screen(X, y)"
   ]
  },
  {
   "cell_type": "code",
   "execution_count": 8,
   "id": "bf8d33ee-74a6-42a9-a95e-4bf74b4d006d",
   "metadata": {},
   "outputs": [
    {
     "name": "stdout",
     "output_type": "stream",
     "text": [
      "UNIVARIATE SCREENER RESULTS\n",
      "---------------------------\n",
      "Number of observations: 10000\n",
      "Number of predictors: 50\n",
      "Target variable name: target\n",
      "Number of MCPT reps: 100\n",
      "Number of CSCV subsets: 6\n",
      "MCPT permutation method: complete\n",
      "Information Criterion: Spearman Rho\n"
     ]
    },
    {
     "data": {
      "text/html": [
       "<div>\n",
       "<style scoped>\n",
       "    .dataframe tbody tr th:only-of-type {\n",
       "        vertical-align: middle;\n",
       "    }\n",
       "\n",
       "    .dataframe tbody tr th {\n",
       "        vertical-align: top;\n",
       "    }\n",
       "\n",
       "    .dataframe thead th {\n",
       "        text-align: right;\n",
       "    }\n",
       "</style>\n",
       "<table border=\"1\" class=\"dataframe\">\n",
       "  <thead>\n",
       "    <tr style=\"text-align: right;\">\n",
       "      <th></th>\n",
       "      <th>Variable</th>\n",
       "      <th>spearman_rho</th>\n",
       "      <th>Solo p-value</th>\n",
       "      <th>Unbiased p-value</th>\n",
       "      <th>P(&lt;=median)</th>\n",
       "    </tr>\n",
       "  </thead>\n",
       "  <tbody>\n",
       "    <tr>\n",
       "      <th>0</th>\n",
       "      <td>x_1</td>\n",
       "      <td>0.6955</td>\n",
       "      <td>0.01</td>\n",
       "      <td>0.01</td>\n",
       "      <td>0.00</td>\n",
       "    </tr>\n",
       "    <tr>\n",
       "      <th>1</th>\n",
       "      <td>x_0</td>\n",
       "      <td>0.6823</td>\n",
       "      <td>0.01</td>\n",
       "      <td>0.01</td>\n",
       "      <td>0.00</td>\n",
       "    </tr>\n",
       "    <tr>\n",
       "      <th>2</th>\n",
       "      <td>x_4</td>\n",
       "      <td>0.4955</td>\n",
       "      <td>0.01</td>\n",
       "      <td>0.01</td>\n",
       "      <td>0.00</td>\n",
       "    </tr>\n",
       "    <tr>\n",
       "      <th>3</th>\n",
       "      <td>x_5</td>\n",
       "      <td>0.4931</td>\n",
       "      <td>0.01</td>\n",
       "      <td>0.01</td>\n",
       "      <td>0.00</td>\n",
       "    </tr>\n",
       "    <tr>\n",
       "      <th>4</th>\n",
       "      <td>x_2</td>\n",
       "      <td>0.4779</td>\n",
       "      <td>0.01</td>\n",
       "      <td>0.01</td>\n",
       "      <td>0.00</td>\n",
       "    </tr>\n",
       "    <tr>\n",
       "      <th>5</th>\n",
       "      <td>x_3</td>\n",
       "      <td>0.4738</td>\n",
       "      <td>0.01</td>\n",
       "      <td>0.01</td>\n",
       "      <td>0.00</td>\n",
       "    </tr>\n",
       "    <tr>\n",
       "      <th>6</th>\n",
       "      <td>x_26</td>\n",
       "      <td>0.0222</td>\n",
       "      <td>0.03</td>\n",
       "      <td>0.45</td>\n",
       "      <td>0.00</td>\n",
       "    </tr>\n",
       "    <tr>\n",
       "      <th>7</th>\n",
       "      <td>x_44</td>\n",
       "      <td>0.0169</td>\n",
       "      <td>0.03</td>\n",
       "      <td>0.92</td>\n",
       "      <td>0.00</td>\n",
       "    </tr>\n",
       "    <tr>\n",
       "      <th>8</th>\n",
       "      <td>x_31</td>\n",
       "      <td>0.0158</td>\n",
       "      <td>0.06</td>\n",
       "      <td>0.97</td>\n",
       "      <td>0.25</td>\n",
       "    </tr>\n",
       "    <tr>\n",
       "      <th>9</th>\n",
       "      <td>x_38</td>\n",
       "      <td>0.0129</td>\n",
       "      <td>0.10</td>\n",
       "      <td>1.00</td>\n",
       "      <td>0.30</td>\n",
       "    </tr>\n",
       "  </tbody>\n",
       "</table>\n",
       "</div>"
      ],
      "text/plain": [
       "  Variable  spearman_rho  Solo p-value  Unbiased p-value  P(<=median)\n",
       "0      x_1        0.6955          0.01              0.01         0.00\n",
       "1      x_0        0.6823          0.01              0.01         0.00\n",
       "2      x_4        0.4955          0.01              0.01         0.00\n",
       "3      x_5        0.4931          0.01              0.01         0.00\n",
       "4      x_2        0.4779          0.01              0.01         0.00\n",
       "5      x_3        0.4738          0.01              0.01         0.00\n",
       "6     x_26        0.0222          0.03              0.45         0.00\n",
       "7     x_44        0.0169          0.03              0.92         0.00\n",
       "8     x_31        0.0158          0.06              0.97         0.25\n",
       "9     x_38        0.0129          0.10              1.00         0.30"
      ]
     },
     "execution_count": 8,
     "metadata": {},
     "output_type": "execute_result"
    }
   ],
   "source": [
    "uni_screen_continuous_results = uni_screen_continuous.results\n",
    "uni_screen_continuous_results.head(10)"
   ]
  },
  {
   "cell_type": "markdown",
   "id": "69299f6d-5f11-4ee4-b8e2-33603bb69981",
   "metadata": {},
   "source": [
    "Sure enough the top variables are appearing in the same order."
   ]
  },
  {
   "cell_type": "markdown",
   "id": "9d59d3fb-d9d7-4b10-a9f1-95ebee9389a6",
   "metadata": {},
   "source": [
    "### Example 3: Serially-correlated variables\n",
    "\n",
    "In this example, a new data set of several serially correlated variables are going to be created. \n",
    "\n",
    "A rolling 10-period average is going to be calculated from random variables, `x_6` to `x_15`. \n",
    "These original variables have no relation with one another.  \n",
    "The new variables are only associated by the length of the moving average window.\n",
    "\n",
    "The newly derived `x_6` is then going to be removed and used as the target variable while the other serially-correlated random variables will be used as predictor variables.\n",
    "\n",
    "If serial correlation exists in either the predictor or target variables and `complete` is chosen for `mcpt_type` parameter, the screener may detect relationships with the predictor variables even though none exist.  \n",
    "\n",
    "Therefore, be very careful to choose `cyclic` as the `mcpt_type` if even a hint of serial correlation may be present within any variables being examined."
   ]
  },
  {
   "cell_type": "code",
   "execution_count": 9,
   "id": "a02e3ef6-4673-4459-bb82-b0fe81b90fea",
   "metadata": {},
   "outputs": [],
   "source": [
    "# Create a new data set with serial correlation \n",
    "# Use random variables with no relationship with one another\n",
    "# Create serially correlated variables by calculating a rolling average of the series.\n",
    "import pandas as pd\n",
    "\n",
    "dep_list = []\n",
    "\n",
    "for icol in range(6,16):\n",
    "    col = f'x_{icol}'\n",
    "    dep_list.append(X[col].rolling(10, min_periods=1).mean())\n",
    "    \n",
    "X_dep = pd.concat(dep_list, axis=1)\n",
    "\n",
    "y_dep = X_dep['x_6']\n",
    "X_dep.drop(columns='x_6', inplace=True)"
   ]
  },
  {
   "cell_type": "markdown",
   "id": "f074a481-ea5d-4687-b2fb-5cfcb88d0a03",
   "metadata": {},
   "source": [
    "Perform a univariate screening with the serially-correlated data.  \n",
    "\n",
    "`complete` is selected as `mcpt_type`"
   ]
  },
  {
   "cell_type": "code",
   "execution_count": 10,
   "id": "08b21cf5-de8c-4f6c-836e-975ce1e91139",
   "metadata": {},
   "outputs": [
    {
     "name": "stdout",
     "output_type": "stream",
     "text": [
      "PROCESSING 9 variables ... \n",
      "TOTAL COLUMNS PROCESSED: 9\n",
      "- Processing time: 0.007171 s\n",
      "Begin MCPT reps ...\n"
     ]
    },
    {
     "data": {
      "application/vnd.jupyter.widget-view+json": {
       "model_id": "ecf7de85f6e247af9646e14648e925f3",
       "version_major": 2,
       "version_minor": 0
      },
      "text/plain": [
       "  0%|          | 0/100 [00:00<?, ?it/s]"
      ]
     },
     "metadata": {},
     "output_type": "display_data"
    },
    {
     "name": "stdout",
     "output_type": "stream",
     "text": [
      "Begin CSCV reps ...\n"
     ]
    },
    {
     "data": {
      "application/vnd.jupyter.widget-view+json": {
       "model_id": "d432a24b56c349c59711668b0aed824b",
       "version_major": 2,
       "version_minor": 0
      },
      "text/plain": [
       "  0%|          | 0/70 [00:00<?, ?it/s]"
      ]
     },
     "metadata": {},
     "output_type": "display_data"
    },
    {
     "data": {
      "text/plain": [
       "<narrowgate.screeners.univariate.base.UnivariateScreener at 0x7f51e5a78370>"
      ]
     },
     "execution_count": 10,
     "metadata": {},
     "output_type": "execute_result"
    }
   ],
   "source": [
    "uni_screen_complete = \\\n",
    "    UnivariateScreener(\n",
    "        nbins_predictors=5, \n",
    "        nbins_target=5, \n",
    "        information_criterion='mutual_information', \n",
    "        mcpt_type = 'complete',\n",
    "        mcpt_reps=100, \n",
    "        cscv_subsets=8)\n",
    "\n",
    "uni_screen_complete.screen(X_dep, y_dep)"
   ]
  },
  {
   "cell_type": "code",
   "execution_count": 11,
   "id": "0c52d84d-2d31-4426-a8d9-40d1ac90ddeb",
   "metadata": {},
   "outputs": [
    {
     "name": "stdout",
     "output_type": "stream",
     "text": [
      "UNIVARIATE SCREENER RESULTS\n",
      "---------------------------\n",
      "Number of observations: 10000\n",
      "Number of predictors: 9\n",
      "Target variable name: x_6\n",
      "Number of MCPT reps: 100\n",
      "Number of CSCV subsets: 8\n",
      "Number of bins (predictors): 5\n",
      "Number of bins (target): 5\n",
      "MCPT permutation method: complete\n",
      "Information Criterion: Mutual Information\n"
     ]
    },
    {
     "data": {
      "text/html": [
       "<div>\n",
       "<style scoped>\n",
       "    .dataframe tbody tr th:only-of-type {\n",
       "        vertical-align: middle;\n",
       "    }\n",
       "\n",
       "    .dataframe tbody tr th {\n",
       "        vertical-align: top;\n",
       "    }\n",
       "\n",
       "    .dataframe thead th {\n",
       "        text-align: right;\n",
       "    }\n",
       "</style>\n",
       "<table border=\"1\" class=\"dataframe\">\n",
       "  <thead>\n",
       "    <tr style=\"text-align: right;\">\n",
       "      <th></th>\n",
       "      <th>Variable</th>\n",
       "      <th>mutual_information</th>\n",
       "      <th>Solo p-value</th>\n",
       "      <th>Unbiased p-value</th>\n",
       "      <th>P(&lt;=median)</th>\n",
       "    </tr>\n",
       "  </thead>\n",
       "  <tbody>\n",
       "    <tr>\n",
       "      <th>0</th>\n",
       "      <td>x_11</td>\n",
       "      <td>0.0020</td>\n",
       "      <td>0.02</td>\n",
       "      <td>0.04</td>\n",
       "      <td>0.371429</td>\n",
       "    </tr>\n",
       "    <tr>\n",
       "      <th>1</th>\n",
       "      <td>x_8</td>\n",
       "      <td>0.0017</td>\n",
       "      <td>0.02</td>\n",
       "      <td>0.06</td>\n",
       "      <td>0.442857</td>\n",
       "    </tr>\n",
       "    <tr>\n",
       "      <th>2</th>\n",
       "      <td>x_13</td>\n",
       "      <td>0.0015</td>\n",
       "      <td>0.02</td>\n",
       "      <td>0.17</td>\n",
       "      <td>0.371429</td>\n",
       "    </tr>\n",
       "    <tr>\n",
       "      <th>3</th>\n",
       "      <td>x_7</td>\n",
       "      <td>0.0014</td>\n",
       "      <td>0.03</td>\n",
       "      <td>0.25</td>\n",
       "      <td>0.400000</td>\n",
       "    </tr>\n",
       "    <tr>\n",
       "      <th>4</th>\n",
       "      <td>x_12</td>\n",
       "      <td>0.0013</td>\n",
       "      <td>0.03</td>\n",
       "      <td>0.30</td>\n",
       "      <td>0.571429</td>\n",
       "    </tr>\n",
       "    <tr>\n",
       "      <th>5</th>\n",
       "      <td>x_9</td>\n",
       "      <td>0.0012</td>\n",
       "      <td>0.12</td>\n",
       "      <td>0.59</td>\n",
       "      <td>0.514286</td>\n",
       "    </tr>\n",
       "    <tr>\n",
       "      <th>6</th>\n",
       "      <td>x_15</td>\n",
       "      <td>0.0011</td>\n",
       "      <td>0.14</td>\n",
       "      <td>0.73</td>\n",
       "      <td>0.442857</td>\n",
       "    </tr>\n",
       "    <tr>\n",
       "      <th>7</th>\n",
       "      <td>x_10</td>\n",
       "      <td>0.0010</td>\n",
       "      <td>0.23</td>\n",
       "      <td>0.90</td>\n",
       "      <td>0.585714</td>\n",
       "    </tr>\n",
       "    <tr>\n",
       "      <th>8</th>\n",
       "      <td>x_14</td>\n",
       "      <td>0.0009</td>\n",
       "      <td>0.40</td>\n",
       "      <td>0.96</td>\n",
       "      <td>0.671429</td>\n",
       "    </tr>\n",
       "  </tbody>\n",
       "</table>\n",
       "</div>"
      ],
      "text/plain": [
       "  Variable  mutual_information  Solo p-value  Unbiased p-value  P(<=median)\n",
       "0     x_11              0.0020          0.02              0.04     0.371429\n",
       "1      x_8              0.0017          0.02              0.06     0.442857\n",
       "2     x_13              0.0015          0.02              0.17     0.371429\n",
       "3      x_7              0.0014          0.03              0.25     0.400000\n",
       "4     x_12              0.0013          0.03              0.30     0.571429\n",
       "5      x_9              0.0012          0.12              0.59     0.514286\n",
       "6     x_15              0.0011          0.14              0.73     0.442857\n",
       "7     x_10              0.0010          0.23              0.90     0.585714\n",
       "8     x_14              0.0009          0.40              0.96     0.671429"
      ]
     },
     "execution_count": 11,
     "metadata": {},
     "output_type": "execute_result"
    }
   ],
   "source": [
    "uni_screen_complete_results = uni_screen_complete.results\n",
    "uni_screen_complete_results"
   ]
  },
  {
   "cell_type": "markdown",
   "id": "7b2f1b9c-d37b-428f-a468-041bad90d4f6",
   "metadata": {},
   "source": [
    "Notice the low mutual information values but alsso the low solo p-value and unbiased p-values as well.  \n",
    "\n",
    "By not accounting for the serial correlation using `cyclic` as the `mcpt_type`, the screener has detected relationships between predictor and target variables when, in fact, there is none. The only relationship is the window length of the serial correlation.\n",
    "\n",
    "Re-run the same screener but use `cyclic` instead."
   ]
  },
  {
   "cell_type": "code",
   "execution_count": 12,
   "id": "747a262c-0949-4745-96e2-46bdc2202ce7",
   "metadata": {},
   "outputs": [
    {
     "name": "stdout",
     "output_type": "stream",
     "text": [
      "PROCESSING 9 variables ... \n",
      "TOTAL COLUMNS PROCESSED: 9\n",
      "- Processing time: 0.006906 s\n",
      "Begin MCPT reps ...\n"
     ]
    },
    {
     "data": {
      "application/vnd.jupyter.widget-view+json": {
       "model_id": "0f0fc0eeec1649d69202f40c7bc944b8",
       "version_major": 2,
       "version_minor": 0
      },
      "text/plain": [
       "  0%|          | 0/100 [00:00<?, ?it/s]"
      ]
     },
     "metadata": {},
     "output_type": "display_data"
    },
    {
     "name": "stdout",
     "output_type": "stream",
     "text": [
      "Begin CSCV reps ...\n"
     ]
    },
    {
     "data": {
      "application/vnd.jupyter.widget-view+json": {
       "model_id": "f96dfad02e8541de992e38f3327402fc",
       "version_major": 2,
       "version_minor": 0
      },
      "text/plain": [
       "  0%|          | 0/70 [00:00<?, ?it/s]"
      ]
     },
     "metadata": {},
     "output_type": "display_data"
    },
    {
     "data": {
      "text/plain": [
       "<narrowgate.screeners.univariate.base.UnivariateScreener at 0x7f51e5a78040>"
      ]
     },
     "execution_count": 12,
     "metadata": {},
     "output_type": "execute_result"
    }
   ],
   "source": [
    "uni_screen_cyclic = \\\n",
    "    UnivariateScreener(\n",
    "        nbins_predictors=5, \n",
    "        nbins_target=5, \n",
    "        information_criterion='mutual_information', \n",
    "        mcpt_type='cyclic',\n",
    "        mcpt_reps=100, \n",
    "        cscv_subsets=8)\n",
    "\n",
    "uni_screen_cyclic.screen(X_dep, y_dep)"
   ]
  },
  {
   "cell_type": "code",
   "execution_count": 13,
   "id": "b36e89bd-c9fe-4282-9567-a183e9710552",
   "metadata": {},
   "outputs": [
    {
     "name": "stdout",
     "output_type": "stream",
     "text": [
      "UNIVARIATE SCREENER RESULTS\n",
      "---------------------------\n",
      "Number of observations: 10000\n",
      "Number of predictors: 9\n",
      "Target variable name: x_6\n",
      "Number of MCPT reps: 100\n",
      "Number of CSCV subsets: 8\n",
      "Number of bins (predictors): 5\n",
      "Number of bins (target): 5\n",
      "MCPT permutation method: cyclic\n",
      "Information Criterion: Mutual Information\n"
     ]
    },
    {
     "data": {
      "text/html": [
       "<div>\n",
       "<style scoped>\n",
       "    .dataframe tbody tr th:only-of-type {\n",
       "        vertical-align: middle;\n",
       "    }\n",
       "\n",
       "    .dataframe tbody tr th {\n",
       "        vertical-align: top;\n",
       "    }\n",
       "\n",
       "    .dataframe thead th {\n",
       "        text-align: right;\n",
       "    }\n",
       "</style>\n",
       "<table border=\"1\" class=\"dataframe\">\n",
       "  <thead>\n",
       "    <tr style=\"text-align: right;\">\n",
       "      <th></th>\n",
       "      <th>Variable</th>\n",
       "      <th>mutual_information</th>\n",
       "      <th>Solo p-value</th>\n",
       "      <th>Unbiased p-value</th>\n",
       "      <th>P(&lt;=median)</th>\n",
       "    </tr>\n",
       "  </thead>\n",
       "  <tbody>\n",
       "    <tr>\n",
       "      <th>0</th>\n",
       "      <td>x_11</td>\n",
       "      <td>0.0020</td>\n",
       "      <td>0.21</td>\n",
       "      <td>0.90</td>\n",
       "      <td>0.371429</td>\n",
       "    </tr>\n",
       "    <tr>\n",
       "      <th>1</th>\n",
       "      <td>x_8</td>\n",
       "      <td>0.0017</td>\n",
       "      <td>0.38</td>\n",
       "      <td>0.97</td>\n",
       "      <td>0.442857</td>\n",
       "    </tr>\n",
       "    <tr>\n",
       "      <th>2</th>\n",
       "      <td>x_13</td>\n",
       "      <td>0.0015</td>\n",
       "      <td>0.38</td>\n",
       "      <td>0.99</td>\n",
       "      <td>0.371429</td>\n",
       "    </tr>\n",
       "    <tr>\n",
       "      <th>3</th>\n",
       "      <td>x_7</td>\n",
       "      <td>0.0014</td>\n",
       "      <td>0.48</td>\n",
       "      <td>1.00</td>\n",
       "      <td>0.400000</td>\n",
       "    </tr>\n",
       "    <tr>\n",
       "      <th>4</th>\n",
       "      <td>x_12</td>\n",
       "      <td>0.0013</td>\n",
       "      <td>0.48</td>\n",
       "      <td>1.00</td>\n",
       "      <td>0.571429</td>\n",
       "    </tr>\n",
       "    <tr>\n",
       "      <th>5</th>\n",
       "      <td>x_9</td>\n",
       "      <td>0.0012</td>\n",
       "      <td>0.64</td>\n",
       "      <td>1.00</td>\n",
       "      <td>0.514286</td>\n",
       "    </tr>\n",
       "    <tr>\n",
       "      <th>6</th>\n",
       "      <td>x_15</td>\n",
       "      <td>0.0011</td>\n",
       "      <td>0.66</td>\n",
       "      <td>1.00</td>\n",
       "      <td>0.442857</td>\n",
       "    </tr>\n",
       "    <tr>\n",
       "      <th>7</th>\n",
       "      <td>x_10</td>\n",
       "      <td>0.0010</td>\n",
       "      <td>0.71</td>\n",
       "      <td>1.00</td>\n",
       "      <td>0.585714</td>\n",
       "    </tr>\n",
       "    <tr>\n",
       "      <th>8</th>\n",
       "      <td>x_14</td>\n",
       "      <td>0.0009</td>\n",
       "      <td>0.85</td>\n",
       "      <td>1.00</td>\n",
       "      <td>0.671429</td>\n",
       "    </tr>\n",
       "  </tbody>\n",
       "</table>\n",
       "</div>"
      ],
      "text/plain": [
       "  Variable  mutual_information  Solo p-value  Unbiased p-value  P(<=median)\n",
       "0     x_11              0.0020          0.21              0.90     0.371429\n",
       "1      x_8              0.0017          0.38              0.97     0.442857\n",
       "2     x_13              0.0015          0.38              0.99     0.371429\n",
       "3      x_7              0.0014          0.48              1.00     0.400000\n",
       "4     x_12              0.0013          0.48              1.00     0.571429\n",
       "5      x_9              0.0012          0.64              1.00     0.514286\n",
       "6     x_15              0.0011          0.66              1.00     0.442857\n",
       "7     x_10              0.0010          0.71              1.00     0.585714\n",
       "8     x_14              0.0009          0.85              1.00     0.671429"
      ]
     },
     "execution_count": 13,
     "metadata": {},
     "output_type": "execute_result"
    }
   ],
   "source": [
    "uni_screen_cyclic_results = uni_screen_cyclic.results\n",
    "uni_screen_cyclic_results"
   ]
  },
  {
   "cell_type": "markdown",
   "id": "7b7b0b64-573c-4627-b3dd-92fe8fb2e717",
   "metadata": {},
   "source": [
    "This is much better.  \n",
    "\n",
    "While some of the variables still have somewhat low solo p-values, all of the unbiased p-values are quite high, therefore indicating no predictive power among the predictor variables."
   ]
  },
  {
   "cell_type": "markdown",
   "id": "a3de4339-d848-4ff1-b8f0-58cbf4362edb",
   "metadata": {},
   "source": [
    "### Conclusion\n",
    "\n",
    "The `UnivariateScreener` is an excellent first-use tool for exploratory data analysis.  \n",
    "\n",
    "Monte Carlo Permutation testing helps assess robust of predictor variables. "
   ]
  },
  {
   "cell_type": "markdown",
   "id": "ba30e0aa-b1ab-4aa5-9294-ddf66d16a7de",
   "metadata": {},
   "source": [
    "Additional examples with real-world data sets"
   ]
  }
 ],
 "metadata": {
  "kernelspec": {
   "display_name": "vectorbt",
   "language": "python",
   "name": "vectorbt"
  },
  "language_info": {
   "codemirror_mode": {
    "name": "ipython",
    "version": 3
   },
   "file_extension": ".py",
   "mimetype": "text/x-python",
   "name": "python",
   "nbconvert_exporter": "python",
   "pygments_lexer": "ipython3",
   "version": "3.8.12"
  }
 },
 "nbformat": 4,
 "nbformat_minor": 5
}

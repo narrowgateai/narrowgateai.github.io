{
 "cells": [
  {
   "cell_type": "code",
   "execution_count": 1,
   "id": "222d79e1-b60f-417a-9b6b-e89c713eff32",
   "metadata": {},
   "outputs": [],
   "source": [
    "%load_ext autoreload\n",
    "%autoreload 2"
   ]
  },
  {
   "cell_type": "markdown",
   "id": "d4101453-b1d3-4304-9da7-f8a722ce8430",
   "metadata": {},
   "source": [
    "# BivariateScreener Example\n",
    "\n",
    "The `BivariateScreener` class screens for the interaction effects between two predictor variables and a target variable.  \n",
    "\n",
    "Since the screening is performed with combinations of two variables, the total number of combinations screened given `n` predictor variables will be `n * (n-1) / 2`  \n",
    "For this reason, the runtime for this screener is substantially longer than `UnivariateScreener`\n",
    "\n",
    "Items to note:  \n",
    "* Unlike `UnivariateScreener` **only discretized** information measures are supported\n",
    "* Similar to `UnivariateScreener`, predictor and target variables must be numeric data types (not categorical).\n",
    "\n",
    "The same data pre-processing recommendations are also provided:  \n",
    "* For any categorical predictor variables, it is recommended to utilze the `Nominal2OrdinalEncoder` which will convert the categorical variables to numeric values. \n",
    "* For a target variable with two values (binary classification), a conversion of target variable values to `0` and `1` is recommended. A discretized information measure is recommend (mutual information, uncertainty reduction, etc.) with the `nbins_target` parameter value set at `2`\n",
    "* For a multi-class target variable, a [`LabelEncoder`](https://scikit-learn.org/stable/modules/generated/sklearn.preprocessing.LabelEncoder.html) conversion is recommended along with a discretized information measure. The `nbins_target` parameter value shold be set to the number of classes present within the target variable. Please be aware the screener will potentially struggle to produce meaningful results with extremely high cardinal target variables also exhibiting a moderate amount of class imbalance.\n",
    "\n",
    "Please consult the following texts for additional explanations/information on this screener:\n",
    "* [Data Mining Algorithms in C++](https://www.amazon.com/gp/product/B078H79QGK/)\n",
    "* [VarScreen User's manual](http://www.timothymasters.info/varscreen.html)"
   ]
  },
  {
   "cell_type": "markdown",
   "id": "4cd79a81-a7dc-4753-a1fa-012644981921",
   "metadata": {},
   "source": [
    "### Generate Synthetic data\n",
    "\n",
    "The same synthetic data set used for demonstrating `UnivariateScreener` will also be used here.  \n",
    "\n",
    "In this example, we should see 5 strong variable combinations out of the set of combinations. \n",
    "* 2 variables actually interact to comprise the target variable (1 combo)\n",
    "* each of these variables are interactions of 2 variables (4 combos)\n",
    "\n",
    "Also, since there are 50 predictor variables, this will lead to 1,225 combinations of 2 variables.  \n",
    "In order to properly account for this, the number of Monte Carlo Permutation testing reps will need to increase to 1000 (or more)\n",
    "\n",
    "The preferred information criterion for use with this screener is `uncertainty_reduction`."
   ]
  },
  {
   "cell_type": "code",
   "execution_count": 2,
   "id": "4f715a15-ba13-4ba5-87b2-c0cec88c07aa",
   "metadata": {},
   "outputs": [],
   "source": [
    "from narrowgate.utils.test import make_masters_sample_regression_data"
   ]
  },
  {
   "cell_type": "code",
   "execution_count": 3,
   "id": "badc852b-9194-4cf8-868f-7716afa98f51",
   "metadata": {},
   "outputs": [],
   "source": [
    "X, y = \\\n",
    "    make_masters_sample_regression_data(\n",
    "        n_obs = 10000,\n",
    "        n_cols = 50)"
   ]
  },
  {
   "cell_type": "code",
   "execution_count": 4,
   "id": "14b46a50-c002-40f6-8184-493c80c0cb4e",
   "metadata": {},
   "outputs": [],
   "source": [
    "from narrowgate.screeners import BivariateScreener"
   ]
  },
  {
   "cell_type": "code",
   "execution_count": 5,
   "id": "6d9c3b32-76c7-4128-9dc3-f7e9c818c3bc",
   "metadata": {},
   "outputs": [
    {
     "name": "stdout",
     "output_type": "stream",
     "text": [
      "PROCESSING 50 variables ... \n",
      "TOTAL COLUMNS PROCESSED: 50\n",
      "- Processing time: 3.968823 s\n",
      "TOTAL # OF 2-VARIABLE COMBINATIONS: 1225\n",
      "Begin MCPT reps ...\n"
     ]
    },
    {
     "data": {
      "application/vnd.jupyter.widget-view+json": {
       "model_id": "be285090bbdf47378ebc95e7e49eb40d",
       "version_major": 2,
       "version_minor": 0
      },
      "text/plain": [
       "  0%|          | 0/1000 [00:00<?, ?it/s]"
      ]
     },
     "metadata": {},
     "output_type": "display_data"
    }
   ],
   "source": [
    "bi_screen = \\\n",
    "    BivariateScreener(\n",
    "        nbins_predictors=5, \n",
    "        nbins_target=5, \n",
    "        information_criterion='uncertainty_reduction', \n",
    "        mcpt_type='complete',\n",
    "        mcpt_reps=1000)\n",
    "\n",
    "bi_screen.screen(X, y)"
   ]
  },
  {
   "cell_type": "code",
   "execution_count": 6,
   "id": "a681dd06-28e2-4476-8a26-87f16f8cae71",
   "metadata": {},
   "outputs": [
    {
     "name": "stdout",
     "output_type": "stream",
     "text": [
      "BIVARIATE SCREENER RESULTS\n",
      "---------------------------\n",
      "Number of observations: 10000\n",
      "Number of predictors: 50\n",
      "Target variable name: target\n",
      "Number of MCPT reps: 1000\n",
      "Number of bins (predictors): 5\n",
      "Number of bins (target): 5\n",
      "MCPT permutation method: complete\n",
      "Information Criterion: Uncertainty Reduction\n"
     ]
    },
    {
     "data": {
      "text/html": [
       "<div>\n",
       "<style scoped>\n",
       "    .dataframe tbody tr th:only-of-type {\n",
       "        vertical-align: middle;\n",
       "    }\n",
       "\n",
       "    .dataframe tbody tr th {\n",
       "        vertical-align: top;\n",
       "    }\n",
       "\n",
       "    .dataframe thead th {\n",
       "        text-align: right;\n",
       "    }\n",
       "</style>\n",
       "<table border=\"1\" class=\"dataframe\">\n",
       "  <thead>\n",
       "    <tr style=\"text-align: right;\">\n",
       "      <th></th>\n",
       "      <th>Variable 1</th>\n",
       "      <th>Variable 2</th>\n",
       "      <th>Uncertainty Reduction</th>\n",
       "      <th>Solo p-value</th>\n",
       "      <th>Unbiased p-value</th>\n",
       "    </tr>\n",
       "  </thead>\n",
       "  <tbody>\n",
       "    <tr>\n",
       "      <th>0</th>\n",
       "      <td>x_0</td>\n",
       "      <td>x_1</td>\n",
       "      <td>0.666827</td>\n",
       "      <td>0.001</td>\n",
       "      <td>0.001</td>\n",
       "    </tr>\n",
       "    <tr>\n",
       "      <th>1</th>\n",
       "      <td>x_1</td>\n",
       "      <td>x_2</td>\n",
       "      <td>0.334572</td>\n",
       "      <td>0.001</td>\n",
       "      <td>0.001</td>\n",
       "    </tr>\n",
       "    <tr>\n",
       "      <th>2</th>\n",
       "      <td>x_1</td>\n",
       "      <td>x_3</td>\n",
       "      <td>0.327528</td>\n",
       "      <td>0.001</td>\n",
       "      <td>0.001</td>\n",
       "    </tr>\n",
       "    <tr>\n",
       "      <th>3</th>\n",
       "      <td>x_0</td>\n",
       "      <td>x_5</td>\n",
       "      <td>0.326688</td>\n",
       "      <td>0.001</td>\n",
       "      <td>0.001</td>\n",
       "    </tr>\n",
       "    <tr>\n",
       "      <th>4</th>\n",
       "      <td>x_0</td>\n",
       "      <td>x_4</td>\n",
       "      <td>0.325071</td>\n",
       "      <td>0.001</td>\n",
       "      <td>0.001</td>\n",
       "    </tr>\n",
       "    <tr>\n",
       "      <th>5</th>\n",
       "      <td>x_4</td>\n",
       "      <td>x_5</td>\n",
       "      <td>0.181637</td>\n",
       "      <td>0.001</td>\n",
       "      <td>0.001</td>\n",
       "    </tr>\n",
       "    <tr>\n",
       "      <th>6</th>\n",
       "      <td>x_1</td>\n",
       "      <td>x_4</td>\n",
       "      <td>0.180486</td>\n",
       "      <td>0.001</td>\n",
       "      <td>0.001</td>\n",
       "    </tr>\n",
       "    <tr>\n",
       "      <th>7</th>\n",
       "      <td>x_1</td>\n",
       "      <td>x_5</td>\n",
       "      <td>0.180013</td>\n",
       "      <td>0.001</td>\n",
       "      <td>0.001</td>\n",
       "    </tr>\n",
       "    <tr>\n",
       "      <th>8</th>\n",
       "      <td>x_1</td>\n",
       "      <td>x_45</td>\n",
       "      <td>0.178399</td>\n",
       "      <td>0.001</td>\n",
       "      <td>0.001</td>\n",
       "    </tr>\n",
       "    <tr>\n",
       "      <th>9</th>\n",
       "      <td>x_1</td>\n",
       "      <td>x_26</td>\n",
       "      <td>0.178227</td>\n",
       "      <td>0.001</td>\n",
       "      <td>0.001</td>\n",
       "    </tr>\n",
       "  </tbody>\n",
       "</table>\n",
       "</div>"
      ],
      "text/plain": [
       "  Variable 1 Variable 2  Uncertainty Reduction  Solo p-value  Unbiased p-value\n",
       "0        x_0        x_1               0.666827         0.001             0.001\n",
       "1        x_1        x_2               0.334572         0.001             0.001\n",
       "2        x_1        x_3               0.327528         0.001             0.001\n",
       "3        x_0        x_5               0.326688         0.001             0.001\n",
       "4        x_0        x_4               0.325071         0.001             0.001\n",
       "5        x_4        x_5               0.181637         0.001             0.001\n",
       "6        x_1        x_4               0.180486         0.001             0.001\n",
       "7        x_1        x_5               0.180013         0.001             0.001\n",
       "8        x_1       x_45               0.178399         0.001             0.001\n",
       "9        x_1       x_26               0.178227         0.001             0.001"
      ]
     },
     "execution_count": 6,
     "metadata": {},
     "output_type": "execute_result"
    }
   ],
   "source": [
    "bi_screen_results = bi_screen.results\n",
    "bi_screen_results.head(10)"
   ]
  },
  {
   "cell_type": "markdown",
   "id": "baf9e495-fd8a-4c7d-a197-98218c894312",
   "metadata": {},
   "source": [
    "Sure enough, we are able to see 5 strong variable combinations produced by the screening run."
   ]
  }
 ],
 "metadata": {
  "kernelspec": {
   "display_name": "vectorbt",
   "language": "python",
   "name": "vectorbt"
  },
  "language_info": {
   "codemirror_mode": {
    "name": "ipython",
    "version": 3
   },
   "file_extension": ".py",
   "mimetype": "text/x-python",
   "name": "python",
   "nbconvert_exporter": "python",
   "pygments_lexer": "ipython3",
   "version": "3.8.12"
  }
 },
 "nbformat": 4,
 "nbformat_minor": 5
}

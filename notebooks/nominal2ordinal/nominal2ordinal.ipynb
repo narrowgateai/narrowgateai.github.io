{
 "cells": [
  {
   "cell_type": "markdown",
   "id": "57484265-59ba-4a80-837c-6f23064b85cc",
   "metadata": {},
   "source": [
    "# Nominal2OrdinalEncoder Example\n",
    "\n",
    "Synthetic data sets will be used to demonstrate the usage of the Nominal2OrdinalEncoder class. While scikit-learn provides utility functions such as  `make_regression` and `make_classification`, neither of these support the inclusion of nominal/categorical predictor variables.  \n",
    "\n",
    "As a result, a synthetic data-generating function demonstrated at \n",
    "\n",
    "\n",
    "The `UnivariateScreener` class from this package will also be used to demonstrate the use of information-based measures on both the orginal numeric predictor variables as well as the Nominal2Ordinal encoded features."
   ]
  },
  {
   "cell_type": "code",
   "execution_count": 1,
   "id": "cb16ba15-60ab-4e83-ba16-dcf7c5b47db5",
   "metadata": {},
   "outputs": [],
   "source": [
    "%load_ext autoreload\n",
    "%autoreload 2"
   ]
  },
  {
   "cell_type": "markdown",
   "id": "5a2351f5-9e40-4417-a970-0eedbcb5b666",
   "metadata": {},
   "source": [
    "## Classification Example\n",
    "\n",
    "### Generate synthetic dataset"
   ]
  },
  {
   "cell_type": "code",
   "execution_count": 2,
   "id": "30c599d7-f6b7-4370-8c52-c9bf107a26f3",
   "metadata": {},
   "outputs": [],
   "source": [
    "from sklearn.datasets import make_classification\n",
    "import pandas as pd\n",
    "\n",
    "n_obs = 10000\n",
    "n_features = 100\n",
    "\n",
    "X, y = make_classification(\n",
    "            n_samples=n_obs, \n",
    "            n_features=n_features, \n",
    "            n_informative=10, \n",
    "            n_redundant=0, \n",
    "            n_classes=2, \n",
    "            flip_y=0.2, \n",
    "            random_state=42)\n",
    "\n",
    "X = pd.DataFrame(X, columns=[f'x{i}' for i in range(n_features)])\n",
    "y = pd.Series(y, name='target')"
   ]
  },
  {
   "cell_type": "markdown",
   "id": "2e7900a6-9926-43b7-9160-5ea9b6cd0bb6",
   "metadata": {},
   "source": [
    "### Examine univariate relationship with target"
   ]
  },
  {
   "cell_type": "code",
   "execution_count": 4,
   "id": "b2ef0705-ccf3-410b-a399-6efbc77c09a1",
   "metadata": {},
   "outputs": [],
   "source": [
    "from narrowgate.screeners import UnivariateScreener"
   ]
  },
  {
   "cell_type": "code",
   "execution_count": 5,
   "id": "16ef7665-7d5f-46ba-89af-f6e2e811c3c0",
   "metadata": {},
   "outputs": [
    {
     "name": "stdout",
     "output_type": "stream",
     "text": [
      "PROCESSING 100 variables ... \n",
      "TOTAL COLUMNS PROCESSED: 100\n",
      "- Processing time: 3.987596 s\n",
      "Begin MCPT reps ...\n"
     ]
    },
    {
     "data": {
      "application/vnd.jupyter.widget-view+json": {
       "model_id": "f83418e7bdcd4a389a5eefed26cf277a",
       "version_major": 2,
       "version_minor": 0
      },
      "text/plain": [
       "  0%|          | 0/100 [00:00<?, ?it/s]"
      ]
     },
     "metadata": {},
     "output_type": "display_data"
    },
    {
     "name": "stdout",
     "output_type": "stream",
     "text": [
      "Begin CSCV reps ...\n"
     ]
    },
    {
     "data": {
      "application/vnd.jupyter.widget-view+json": {
       "model_id": "1b4db639cac742e3993b37dcd9413182",
       "version_major": 2,
       "version_minor": 0
      },
      "text/plain": [
       "  0%|          | 0/20 [00:00<?, ?it/s]"
      ]
     },
     "metadata": {},
     "output_type": "display_data"
    },
    {
     "data": {
      "text/plain": [
       "<narrowgate.screeners.univariate.base.UnivariateScreener at 0x7f762e980790>"
      ]
     },
     "execution_count": 5,
     "metadata": {},
     "output_type": "execute_result"
    }
   ],
   "source": [
    "uni_screen = \\\n",
    "    UnivariateScreener(\n",
    "        nbins_predictors=5, \n",
    "        nbins_target=5, \n",
    "        information_criterion='mutual_information', \n",
    "        mcpt_reps=100, \n",
    "        cscv_subsets=6)\n",
    "\n",
    "uni_screen.screen(X, y)"
   ]
  },
  {
   "cell_type": "code",
   "execution_count": 6,
   "id": "43566a51-25f4-45be-95f0-4f8416f5826b",
   "metadata": {},
   "outputs": [
    {
     "name": "stdout",
     "output_type": "stream",
     "text": [
      "UNIVARIATE SCREENER RESULTS\n",
      "---------------------------\n",
      "Number of observations: 10000\n",
      "Number of predictors: 100\n",
      "Target variable name: target\n",
      "Number of MCPT reps: 100\n",
      "Number of CSCV subsets: 6\n",
      "Number of bins (predictors): 5\n",
      "Number of bins (target): 5\n",
      "MCPT permutation method: complete\n",
      "Information Criterion: Mutual Information\n"
     ]
    },
    {
     "data": {
      "text/html": [
       "<div>\n",
       "<style scoped>\n",
       "    .dataframe tbody tr th:only-of-type {\n",
       "        vertical-align: middle;\n",
       "    }\n",
       "\n",
       "    .dataframe tbody tr th {\n",
       "        vertical-align: top;\n",
       "    }\n",
       "\n",
       "    .dataframe thead th {\n",
       "        text-align: right;\n",
       "    }\n",
       "</style>\n",
       "<table border=\"1\" class=\"dataframe\">\n",
       "  <thead>\n",
       "    <tr style=\"text-align: right;\">\n",
       "      <th></th>\n",
       "      <th>Variable</th>\n",
       "      <th>mutual_information</th>\n",
       "      <th>Solo p-value</th>\n",
       "      <th>Unbiased p-value</th>\n",
       "      <th>P(&lt;=median)</th>\n",
       "    </tr>\n",
       "  </thead>\n",
       "  <tbody>\n",
       "    <tr>\n",
       "      <th>0</th>\n",
       "      <td>x91</td>\n",
       "      <td>0.0873</td>\n",
       "      <td>0.01</td>\n",
       "      <td>0.01</td>\n",
       "      <td>0.00</td>\n",
       "    </tr>\n",
       "    <tr>\n",
       "      <th>1</th>\n",
       "      <td>x13</td>\n",
       "      <td>0.0421</td>\n",
       "      <td>0.01</td>\n",
       "      <td>0.01</td>\n",
       "      <td>0.00</td>\n",
       "    </tr>\n",
       "    <tr>\n",
       "      <th>2</th>\n",
       "      <td>x95</td>\n",
       "      <td>0.0243</td>\n",
       "      <td>0.01</td>\n",
       "      <td>0.01</td>\n",
       "      <td>0.00</td>\n",
       "    </tr>\n",
       "    <tr>\n",
       "      <th>3</th>\n",
       "      <td>x54</td>\n",
       "      <td>0.0190</td>\n",
       "      <td>0.01</td>\n",
       "      <td>0.01</td>\n",
       "      <td>0.00</td>\n",
       "    </tr>\n",
       "    <tr>\n",
       "      <th>4</th>\n",
       "      <td>x57</td>\n",
       "      <td>0.0183</td>\n",
       "      <td>0.01</td>\n",
       "      <td>0.01</td>\n",
       "      <td>0.00</td>\n",
       "    </tr>\n",
       "    <tr>\n",
       "      <th>5</th>\n",
       "      <td>x48</td>\n",
       "      <td>0.0172</td>\n",
       "      <td>0.01</td>\n",
       "      <td>0.01</td>\n",
       "      <td>0.00</td>\n",
       "    </tr>\n",
       "    <tr>\n",
       "      <th>6</th>\n",
       "      <td>x87</td>\n",
       "      <td>0.0149</td>\n",
       "      <td>0.01</td>\n",
       "      <td>0.01</td>\n",
       "      <td>0.00</td>\n",
       "    </tr>\n",
       "    <tr>\n",
       "      <th>7</th>\n",
       "      <td>x71</td>\n",
       "      <td>0.0009</td>\n",
       "      <td>0.01</td>\n",
       "      <td>0.18</td>\n",
       "      <td>0.05</td>\n",
       "    </tr>\n",
       "    <tr>\n",
       "      <th>8</th>\n",
       "      <td>x96</td>\n",
       "      <td>0.0007</td>\n",
       "      <td>0.01</td>\n",
       "      <td>0.52</td>\n",
       "      <td>0.05</td>\n",
       "    </tr>\n",
       "    <tr>\n",
       "      <th>9</th>\n",
       "      <td>x11</td>\n",
       "      <td>0.0006</td>\n",
       "      <td>0.08</td>\n",
       "      <td>0.87</td>\n",
       "      <td>0.25</td>\n",
       "    </tr>\n",
       "    <tr>\n",
       "      <th>10</th>\n",
       "      <td>x41</td>\n",
       "      <td>0.0006</td>\n",
       "      <td>0.03</td>\n",
       "      <td>0.93</td>\n",
       "      <td>0.00</td>\n",
       "    </tr>\n",
       "    <tr>\n",
       "      <th>11</th>\n",
       "      <td>x33</td>\n",
       "      <td>0.0005</td>\n",
       "      <td>0.04</td>\n",
       "      <td>0.96</td>\n",
       "      <td>0.10</td>\n",
       "    </tr>\n",
       "    <tr>\n",
       "      <th>12</th>\n",
       "      <td>x55</td>\n",
       "      <td>0.0005</td>\n",
       "      <td>0.04</td>\n",
       "      <td>0.97</td>\n",
       "      <td>0.05</td>\n",
       "    </tr>\n",
       "    <tr>\n",
       "      <th>13</th>\n",
       "      <td>x82</td>\n",
       "      <td>0.0005</td>\n",
       "      <td>0.08</td>\n",
       "      <td>0.98</td>\n",
       "      <td>0.15</td>\n",
       "    </tr>\n",
       "    <tr>\n",
       "      <th>14</th>\n",
       "      <td>x24</td>\n",
       "      <td>0.0005</td>\n",
       "      <td>0.05</td>\n",
       "      <td>0.98</td>\n",
       "      <td>0.20</td>\n",
       "    </tr>\n",
       "  </tbody>\n",
       "</table>\n",
       "</div>"
      ],
      "text/plain": [
       "   Variable  mutual_information  Solo p-value  Unbiased p-value  P(<=median)\n",
       "0       x91              0.0873          0.01              0.01         0.00\n",
       "1       x13              0.0421          0.01              0.01         0.00\n",
       "2       x95              0.0243          0.01              0.01         0.00\n",
       "3       x54              0.0190          0.01              0.01         0.00\n",
       "4       x57              0.0183          0.01              0.01         0.00\n",
       "5       x48              0.0172          0.01              0.01         0.00\n",
       "6       x87              0.0149          0.01              0.01         0.00\n",
       "7       x71              0.0009          0.01              0.18         0.05\n",
       "8       x96              0.0007          0.01              0.52         0.05\n",
       "9       x11              0.0006          0.08              0.87         0.25\n",
       "10      x41              0.0006          0.03              0.93         0.00\n",
       "11      x33              0.0005          0.04              0.96         0.10\n",
       "12      x55              0.0005          0.04              0.97         0.05\n",
       "13      x82              0.0005          0.08              0.98         0.15\n",
       "14      x24              0.0005          0.05              0.98         0.20"
      ]
     },
     "execution_count": 6,
     "metadata": {},
     "output_type": "execute_result"
    }
   ],
   "source": [
    "uni_screen.results.head(15)"
   ]
  },
  {
   "cell_type": "markdown",
   "id": "0ce87d97-b5d6-4548-98b4-070b1ed395be",
   "metadata": {},
   "source": [
    "The above univariate screening results indicate that there indeed appears to be 10 variables within the synthetic data set with a non-random relationship with the binary target variable. These 'signal' variables are the first 10 listed in the results DataFrame printed above.\n",
    "\n",
    "In order to test out the Nominal2Ordinal encoding capability, the second variable in the results list will be discretized to create a categorical variable which should also possess a non-random relationship with the target variable.\n",
    "\n",
    "After the variable is discretized, Nominal2Ordinal encoding will be performed on the categorical variable in the modified data set and the modified data set will be screened again."
   ]
  },
  {
   "cell_type": "markdown",
   "id": "9adfb438-c1fb-408c-ba5e-2c4117f09c75",
   "metadata": {},
   "source": [
    "### Discretize 2nd most informative variable"
   ]
  },
  {
   "cell_type": "code",
   "execution_count": 21,
   "id": "75654fef-98a0-4ec0-8583-86a6c0349140",
   "metadata": {},
   "outputs": [
    {
     "name": "stdout",
     "output_type": "stream",
     "text": [
      "UNIVARIATE SCREENER RESULTS\n",
      "---------------------------\n",
      "Number of observations: 10000\n",
      "Number of predictors: 100\n",
      "Target variable name: target\n",
      "Number of MCPT reps: 100\n",
      "Number of CSCV subsets: 6\n",
      "Number of bins (predictors): 5\n",
      "Number of bins (target): 5\n",
      "MCPT permutation method: complete\n",
      "Information Criterion: Mutual Information\n"
     ]
    }
   ],
   "source": [
    "var_to_discretize = uni_screen.results.Variable[1]\n",
    "\n",
    "new_var = f'{var_to_discretize}_binned'\n",
    "\n",
    "X[new_var] = pd.cut(X[var_to_discretize], bins=8)"
   ]
  },
  {
   "cell_type": "markdown",
   "id": "b5756102-79cf-4dee-9ace-08c4091cbf4f",
   "metadata": {},
   "source": [
    "### Perform Nominal2Ordinal encoding"
   ]
  },
  {
   "cell_type": "code",
   "execution_count": 20,
   "id": "462c04c8-89e7-447b-8e65-f567c6b49d6f",
   "metadata": {},
   "outputs": [
    {
     "data": {
      "text/plain": [
       "Index(['x0', 'x1', 'x2', 'x3', 'x4', 'x5', 'x6', 'x7', 'x8', 'x9',\n",
       "       ...\n",
       "       'x91', 'x92', 'x93', 'x94', 'x95', 'x96', 'x97', 'x98', 'x99',\n",
       "       'x13_binned'],\n",
       "      dtype='object', length=101)"
      ]
     },
     "execution_count": 20,
     "metadata": {},
     "output_type": "execute_result"
    }
   ],
   "source": [
    "X.columns"
   ]
  },
  {
   "cell_type": "code",
   "execution_count": null,
   "id": "54a25e2c-0606-47ec-81d4-9836c6c8c1f1",
   "metadata": {},
   "outputs": [],
   "source": []
  }
 ],
 "metadata": {
  "kernelspec": {
   "display_name": "vectorbt",
   "language": "python",
   "name": "vectorbt"
  },
  "language_info": {
   "codemirror_mode": {
    "name": "ipython",
    "version": 3
   },
   "file_extension": ".py",
   "mimetype": "text/x-python",
   "name": "python",
   "nbconvert_exporter": "python",
   "pygments_lexer": "ipython3",
   "version": "3.8.12"
  }
 },
 "nbformat": 4,
 "nbformat_minor": 5
}
